{
  "cells": [
    {
      "cell_type": "markdown",
      "source": [
        "# How to Make a Decorator"
      ],
      "metadata": {}
    },
    {
      "cell_type": "markdown",
      "source": [
        "[![DOI](https://zenodo.org/badge/214871831.svg)](https://zenodo.org/badge/latestdoi/214871831)"
      ],
      "metadata": {}
    },
    {
      "cell_type": "code",
      "source": [
        "r\"\"\"markdown\n",
        "    TITLE   :  Decorator Reference\n",
        "    AUTHOR  :  Nathaniel Starkman\n",
        "    PROJECT :  2019-10-22 dotAstronomy Plotting Workshop\n",
        "\"\"\"\n",
        "\n",
        "__author__ = 'Nathaniel Starkman'\n",
        "__version__ = \"Oct 22, 2019\""
      ],
      "outputs": [],
      "execution_count": 1,
      "metadata": {}
    },
    {
      "cell_type": "markdown",
      "source": [
        "This notebook will be a walkthrough towards building a good decorator. We will do a lot of things wrong before getting them right.\n",
        "\n",
        "Decorators are a powerful way to augment functions, and even classes. With a decorator we can alter the input or output of a function, and even edit the properties of a function. If you want a primer on decorators, [this is a good article](https://realpython.com/primer-on-python-decorators/).\n",
        "\n",
        "In this notebook we will build up to a decorator that can edit the input and output of a function, will inherit the signature, annotations, and docstring of the decorated function, and can modify the inherited docstring. Decorators that properly modify the signature and annotations are a fair bit more challenging and not covered here."
      ],
      "metadata": {}
    },
    {
      "cell_type": "markdown",
      "source": [
        "<br><br>\n",
        "\n",
        "- - - \n",
        "- - - \n",
        "\n",
        "<br><br>"
      ],
      "metadata": {}
    },
    {
      "cell_type": "markdown",
      "source": [
        "# Preamble\n"
      ],
      "metadata": {}
    },
    {
      "cell_type": "markdown",
      "source": [
        "In this section we do the necessary setup."
      ],
      "metadata": {}
    },
    {
      "cell_type": "markdown",
      "source": [
        "## Imports"
      ],
      "metadata": {
        "inputHidden": false,
        "outputHidden": false
      }
    },
    {
      "cell_type": "code",
      "source": [
        "from astroPHD import ipython\n",
        "ipython.run_imports(base=True)\n",
        "\n",
        "## General\n",
        "import functools\n",
        "import inspect\n",
        "\n",
        "## Custom\n",
        "\n",
        "## Project-Specific"
      ],
      "outputs": [
        {
          "output_type": "stream",
          "name": "stdout",
          "text": [
            "set autoreload to 1\n",
            "base_imports:\n",
            "    Base: os, sys, time, pdb, warnings,\n",
            "          numpy -> np, scipy,\n",
            "          tqdm -> TQDM, .tqdm, .tqdm_notebook ->. tqdmn\n",
            "    Logging: .LogFile\n",
            "    Misc: ObjDict\n",
            "    IPython: display, Latex, Markdown, set_trace,\n",
            "             printmd, printMD, printltx, printLaTeX,\n",
            "             set_autoreload, aimport,\n",
            "             run_imports, import_from_file,\n",
            "             add_raw_code_toggle\n",
            "\n"
          ]
        }
      ],
      "execution_count": 2,
      "metadata": {
        "collapsed": false,
        "inputHidden": false,
        "jupyter": {
          "outputs_hidden": false
        },
        "outputHidden": false
      }
    },
    {
      "cell_type": "markdown",
      "source": [
        "# Functions\n"
      ],
      "metadata": {}
    },
    {
      "cell_type": "markdown",
      "source": [
        "## Test Function"
      ],
      "metadata": {}
    },
    {
      "cell_type": "markdown",
      "source": [
        "Decorators need a function to decorate. Here we define a very generic function with all 5 different types of arguments:\n",
        "\n",
        "1. arguments\n",
        "2. defaulted arguments\n",
        "3. variable arguments,\n",
        "4. keyword-only arguments\n",
        "5. variable keyword arguments"
      ],
      "metadata": {}
    },
    {
      "cell_type": "code",
      "source": [
        "def function(x: '1st arg', y: '2nd arg', a: '1st defarg'=10, b=11, *args: 'args',\n",
        "             k: '1st kwonly'='one', l: '2nd kwonly'='two', **kw: 'kwargs') -> 'return_':\n",
        "    '''function for testing decoration\n",
        "    This function has all 5 different types of arguments:\n",
        "        1) arguments, 2) defaulted arguments, 3) variable arguments,\n",
        "        4) keyword-only arguments, 5) variable keyword arguments\n",
        "    '''\n",
        "    return x, y, a, b, args, k, l, kw\n",
        "# /def"
      ],
      "outputs": [],
      "execution_count": 3,
      "metadata": {}
    },
    {
      "cell_type": "markdown",
      "source": [
        "Checking the properties of the function,"
      ],
      "metadata": {}
    },
    {
      "cell_type": "code",
      "source": [
        "function?"
      ],
      "outputs": [
        {
          "output_type": "display_data",
          "data": {
            "text/plain": [
              "\u001b[0;31mSignature:\u001b[0m\n",
              "\u001b[0mfunction\u001b[0m\u001b[0;34m(\u001b[0m\u001b[0;34m\u001b[0m\n",
              "\u001b[0;34m\u001b[0m    \u001b[0mx\u001b[0m\u001b[0;34m:\u001b[0m \u001b[0;34m'1st arg'\u001b[0m\u001b[0;34m,\u001b[0m\u001b[0;34m\u001b[0m\n",
              "\u001b[0;34m\u001b[0m    \u001b[0my\u001b[0m\u001b[0;34m:\u001b[0m \u001b[0;34m'2nd arg'\u001b[0m\u001b[0;34m,\u001b[0m\u001b[0;34m\u001b[0m\n",
              "\u001b[0;34m\u001b[0m    \u001b[0ma\u001b[0m\u001b[0;34m:\u001b[0m \u001b[0;34m'1st defarg'\u001b[0m \u001b[0;34m=\u001b[0m \u001b[0;36m10\u001b[0m\u001b[0;34m,\u001b[0m\u001b[0;34m\u001b[0m\n",
              "\u001b[0;34m\u001b[0m    \u001b[0mb\u001b[0m\u001b[0;34m=\u001b[0m\u001b[0;36m11\u001b[0m\u001b[0;34m,\u001b[0m\u001b[0;34m\u001b[0m\n",
              "\u001b[0;34m\u001b[0m    \u001b[0;34m*\u001b[0m\u001b[0margs\u001b[0m\u001b[0;34m:\u001b[0m \u001b[0;34m'args'\u001b[0m\u001b[0;34m,\u001b[0m\u001b[0;34m\u001b[0m\n",
              "\u001b[0;34m\u001b[0m    \u001b[0mk\u001b[0m\u001b[0;34m:\u001b[0m \u001b[0;34m'1st kwonly'\u001b[0m \u001b[0;34m=\u001b[0m \u001b[0;34m'one'\u001b[0m\u001b[0;34m,\u001b[0m\u001b[0;34m\u001b[0m\n",
              "\u001b[0;34m\u001b[0m    \u001b[0ml\u001b[0m\u001b[0;34m:\u001b[0m \u001b[0;34m'2nd kwonly'\u001b[0m \u001b[0;34m=\u001b[0m \u001b[0;34m'two'\u001b[0m\u001b[0;34m,\u001b[0m\u001b[0;34m\u001b[0m\n",
              "\u001b[0;34m\u001b[0m    \u001b[0;34m**\u001b[0m\u001b[0mkw\u001b[0m\u001b[0;34m:\u001b[0m \u001b[0;34m'kwargs'\u001b[0m\u001b[0;34m,\u001b[0m\u001b[0;34m\u001b[0m\n",
              "\u001b[0;34m\u001b[0m\u001b[0;34m)\u001b[0m \u001b[0;34m->\u001b[0m \u001b[0;34m'return_'\u001b[0m\u001b[0;34m\u001b[0m\u001b[0;34m\u001b[0m\u001b[0m\n",
              "\u001b[0;31mDocstring:\u001b[0m\n",
              "function for testing decoration\n",
              "This function has all 5 different types of arguments:\n",
              "    1) arguments, 2) defaulted arguments, 3) variable arguments,\n",
              "    4) keyword-only arguments, 5) variable keyword arguments\n",
              "\u001b[0;31mFile:\u001b[0m      ~/Documents/Conferences/2019-10-22 dotAstronomy/presentation/resources/<ipython-input-3-151961bc205e>\n",
              "\u001b[0;31mType:\u001b[0m      function\n"
            ]
          },
          "metadata": {}
        }
      ],
      "execution_count": 4,
      "metadata": {
        "collapsed": false,
        "inputHidden": false,
        "jupyter": {
          "outputs_hidden": false
        },
        "outputHidden": false
      }
    },
    {
      "cell_type": "markdown",
      "source": [
        "This function, since it is the base definition of the function, has the correct location, name, signature, and docstring."
      ],
      "metadata": {}
    },
    {
      "cell_type": "markdown",
      "source": [
        "<br><br>\n",
        "\n",
        "- - - \n",
        "- - - "
      ],
      "metadata": {}
    },
    {
      "cell_type": "markdown",
      "source": [
        "# Simple Decorators"
      ],
      "metadata": {
        "toc-hr-collapsed": false
      }
    },
    {
      "cell_type": "markdown",
      "source": [
        "Decorators can be constructed in a few different ways. We will start with the simplest method -- functions inside function.\n",
        "\n",
        "The general construcution is, where `wrapper` controls how `function` is implemented. `decorator` creates the `wrapper` instance and applies it to the function. \n",
        "\n",
        "```python\n",
        "def decorator(function):\n",
        "\n",
        "    def wrapper():\n",
        "        # do stuff here\n",
        "        function()\n",
        "        # and here\n",
        "    return\n",
        "return wrapper\n",
        "```\n"
      ],
      "metadata": {}
    },
    {
      "cell_type": "markdown",
      "source": [
        "## Base Python"
      ],
      "metadata": {}
    },
    {
      "cell_type": "markdown",
      "source": [
        "These are the simplest decorators, using no imported packages.\n",
        "\n",
        "\n",
        "There are two ways to apply a decorator. The first, by calling the function, is the most obvious and is very useful for modifying existing functions. The second, using the 'pie' syntax, is great when defining new functions."
      ],
      "metadata": {}
    },
    {
      "cell_type": "code",
      "source": [
        "def simple_decorator(function):\n",
        "    '''simple decorator\n",
        "    made without any extra packages\n",
        "    '''\n",
        "    def wrapper(*args, **kw):\n",
        "        \"\"\"accepts any input and passes to the function\"\"\"\n",
        "        print(\"Pre function call\")\n",
        "        print(function(*args, **kw))\n",
        "        print(\"Post function call\")\n",
        "        return\n",
        "    # /def\n",
        "    return wrapper\n",
        "# /def"
      ],
      "outputs": [],
      "execution_count": 5,
      "metadata": {
        "collapsed": false,
        "inputHidden": false,
        "jupyter": {
          "outputs_hidden": false
        },
        "outputHidden": false
      }
    },
    {
      "cell_type": "markdown",
      "source": [
        "### Function Decorator Method"
      ],
      "metadata": {}
    },
    {
      "cell_type": "markdown",
      "source": [
        "This is the first of the two decorator methods -- through function calling. We will make a new function, decorated by `simple_decorator`, simply by calling `simple_decorator(function)`."
      ],
      "metadata": {}
    },
    {
      "cell_type": "code",
      "source": [
        "simple_function = simple_decorator(function)"
      ],
      "outputs": [],
      "execution_count": 6,
      "metadata": {}
    },
    {
      "cell_type": "markdown",
      "source": [
        "Now calling the function"
      ],
      "metadata": {}
    },
    {
      "cell_type": "code",
      "source": [
        "simple_function(1, 2, k='1st keyword')"
      ],
      "outputs": [
        {
          "output_type": "stream",
          "name": "stdout",
          "text": [
            "Pre function call\n",
            "(1, 2, 10, 11, (), '1st keyword', 'two', {})\n",
            "Post function call\n"
          ]
        }
      ],
      "execution_count": 7,
      "metadata": {}
    },
    {
      "cell_type": "markdown",
      "source": [
        "Succcess! The print statements were effective and the function was called with the modified inputs and used all the expected default values."
      ],
      "metadata": {}
    },
    {
      "cell_type": "markdown",
      "source": [
        "#### Introspection"
      ],
      "metadata": {}
    },
    {
      "cell_type": "code",
      "source": [
        "simple_function?"
      ],
      "outputs": [
        {
          "output_type": "display_data",
          "data": {
            "text/plain": [
              "\u001b[0;31mSignature:\u001b[0m \u001b[0msimple_function\u001b[0m\u001b[0;34m(\u001b[0m\u001b[0;34m*\u001b[0m\u001b[0margs\u001b[0m\u001b[0;34m,\u001b[0m \u001b[0;34m**\u001b[0m\u001b[0mkw\u001b[0m\u001b[0;34m)\u001b[0m\u001b[0;34m\u001b[0m\u001b[0;34m\u001b[0m\u001b[0m\n",
              "\u001b[0;31mDocstring:\u001b[0m accepts any input and passes to the function\n",
              "\u001b[0;31mFile:\u001b[0m      ~/Documents/Conferences/2019-10-22 dotAstronomy/presentation/resources/<ipython-input-5-d37d3cd62838>\n",
              "\u001b[0;31mType:\u001b[0m      function\n"
            ]
          },
          "metadata": {}
        }
      ],
      "execution_count": 8,
      "metadata": {}
    },
    {
      "cell_type": "markdown",
      "source": [
        "Now for the bad news.\n",
        "\n",
        "When we compare this to `function?` (above), this decorator has lost most of the information. The function now has a different signature and the docstring from the wrapper. This is not great."
      ],
      "metadata": {}
    },
    {
      "cell_type": "markdown",
      "source": [
        "<br>"
      ],
      "metadata": {}
    },
    {
      "cell_type": "markdown",
      "source": [
        "### Decorator Syntax Method"
      ],
      "metadata": {}
    },
    {
      "cell_type": "markdown",
      "source": [
        "before we go and make a better decorator, this is how to use the 'pie' decorator syntax."
      ],
      "metadata": {}
    },
    {
      "cell_type": "code",
      "source": [
        "@simple_decorator\n",
        "def simple_dec_function(x, y, a=10, b=11, *args, k='one', l='two', **kw):\n",
        "    '''function for testing decoration\n",
        "    This function has all 5 different types of arguments\n",
        "    '''\n",
        "    return x, y, a, b, args, k, l, kw\n",
        "# /def"
      ],
      "outputs": [],
      "execution_count": 9,
      "metadata": {}
    },
    {
      "cell_type": "code",
      "source": [
        "simple_dec_function(1, 2)"
      ],
      "outputs": [
        {
          "output_type": "stream",
          "name": "stdout",
          "text": [
            "Pre function call\n",
            "(1, 2, 10, 11, (), 'one', 'two', {})\n",
            "Post function call\n"
          ]
        }
      ],
      "execution_count": 10,
      "metadata": {}
    },
    {
      "cell_type": "markdown",
      "source": [
        "#### Introspection"
      ],
      "metadata": {}
    },
    {
      "cell_type": "code",
      "source": [
        "simple_dec_function?"
      ],
      "outputs": [
        {
          "output_type": "display_data",
          "data": {
            "text/plain": [
              "\u001b[0;31mSignature:\u001b[0m \u001b[0msimple_dec_function\u001b[0m\u001b[0;34m(\u001b[0m\u001b[0;34m*\u001b[0m\u001b[0margs\u001b[0m\u001b[0;34m,\u001b[0m \u001b[0;34m**\u001b[0m\u001b[0mkw\u001b[0m\u001b[0;34m)\u001b[0m\u001b[0;34m\u001b[0m\u001b[0;34m\u001b[0m\u001b[0m\n",
              "\u001b[0;31mDocstring:\u001b[0m accepts any input and passes to the function\n",
              "\u001b[0;31mFile:\u001b[0m      ~/Documents/Conferences/2019-10-22 dotAstronomy/presentation/resources/<ipython-input-5-d37d3cd62838>\n",
              "\u001b[0;31mType:\u001b[0m      function\n"
            ]
          },
          "metadata": {}
        }
      ],
      "execution_count": 11,
      "metadata": {}
    },
    {
      "cell_type": "markdown",
      "source": [
        "Again, the introspection fails quite badly. We can do better."
      ],
      "metadata": {}
    },
    {
      "cell_type": "markdown",
      "source": [
        "<br><br>\n",
        "\n",
        "- - - "
      ],
      "metadata": {}
    },
    {
      "cell_type": "markdown",
      "source": [
        "## Functools Decorators"
      ],
      "metadata": {}
    },
    {
      "cell_type": "markdown",
      "source": [
        "The easiest way to make a better decorator is with the built-in package `functools`. Using the function `wraps` from the `functools` package, our simple decorators can now preserve function signatures and docstrings.\n",
        "\n",
        "Now, the decorator construction syntax is\n",
        "\n",
        "```python\n",
        "def decorator(function):\n",
        "\n",
        "    @functools.wraps(function)\n",
        "    def wrapper():\n",
        "        # do stuff here\n",
        "        function()\n",
        "        # and here\n",
        "    return\n",
        "return wrapper\n",
        "```\n",
        "\n",
        "Yes, we now have a decorator inside our decorator-making function. If this were a tutorial on decorators and decorator factories, the decorator nesting would have only just begun.\n",
        "\n",
        "Let's see this decorator in action."
      ],
      "metadata": {}
    },
    {
      "cell_type": "markdown",
      "source": [
        "### Function Decorator Method"
      ],
      "metadata": {}
    },
    {
      "cell_type": "markdown",
      "source": [
        "Again, starting with the function calling method,"
      ],
      "metadata": {}
    },
    {
      "cell_type": "code",
      "source": [
        "def ftw_decorator(function):\n",
        "    '''FuncTools.Wraps (ftw) decorator\n",
        "    '''\n",
        "    @functools.wraps(function)\n",
        "    def wrapper(*args, **kw):\n",
        "        print(\"Pre function call\")\n",
        "        print(function(*args, **kw))\n",
        "        print(\"Post function call\")\n",
        "        return\n",
        "    # /def\n",
        "    return wrapper\n",
        "# /def\n"
      ],
      "outputs": [],
      "execution_count": 12,
      "metadata": {}
    },
    {
      "cell_type": "code",
      "source": [
        "ftw_function = ftw_decorator(function)\n",
        "\n",
        "ftw_function(1, 2)"
      ],
      "outputs": [
        {
          "output_type": "stream",
          "name": "stdout",
          "text": [
            "Pre function call\n",
            "(1, 2, 10, 11, (), 'one', 'two', {})\n",
            "Post function call\n"
          ]
        }
      ],
      "execution_count": 13,
      "metadata": {}
    },
    {
      "cell_type": "markdown",
      "source": [
        "#### Introspection"
      ],
      "metadata": {}
    },
    {
      "cell_type": "code",
      "source": [
        "# introspect_function(ftw_function)\n",
        "ftw_function??"
      ],
      "outputs": [
        {
          "output_type": "display_data",
          "data": {
            "text/plain": [
              "\u001b[0;31mSignature:\u001b[0m\n",
              "\u001b[0mftw_function\u001b[0m\u001b[0;34m(\u001b[0m\u001b[0;34m\u001b[0m\n",
              "\u001b[0;34m\u001b[0m    \u001b[0mx\u001b[0m\u001b[0;34m:\u001b[0m \u001b[0;34m'1st arg'\u001b[0m\u001b[0;34m,\u001b[0m\u001b[0;34m\u001b[0m\n",
              "\u001b[0;34m\u001b[0m    \u001b[0my\u001b[0m\u001b[0;34m:\u001b[0m \u001b[0;34m'2nd arg'\u001b[0m\u001b[0;34m,\u001b[0m\u001b[0;34m\u001b[0m\n",
              "\u001b[0;34m\u001b[0m    \u001b[0ma\u001b[0m\u001b[0;34m:\u001b[0m \u001b[0;34m'1st defarg'\u001b[0m \u001b[0;34m=\u001b[0m \u001b[0;36m10\u001b[0m\u001b[0;34m,\u001b[0m\u001b[0;34m\u001b[0m\n",
              "\u001b[0;34m\u001b[0m    \u001b[0mb\u001b[0m\u001b[0;34m=\u001b[0m\u001b[0;36m11\u001b[0m\u001b[0;34m,\u001b[0m\u001b[0;34m\u001b[0m\n",
              "\u001b[0;34m\u001b[0m    \u001b[0;34m*\u001b[0m\u001b[0margs\u001b[0m\u001b[0;34m:\u001b[0m \u001b[0;34m'args'\u001b[0m\u001b[0;34m,\u001b[0m\u001b[0;34m\u001b[0m\n",
              "\u001b[0;34m\u001b[0m    \u001b[0mk\u001b[0m\u001b[0;34m:\u001b[0m \u001b[0;34m'1st kwonly'\u001b[0m \u001b[0;34m=\u001b[0m \u001b[0;34m'one'\u001b[0m\u001b[0;34m,\u001b[0m\u001b[0;34m\u001b[0m\n",
              "\u001b[0;34m\u001b[0m    \u001b[0ml\u001b[0m\u001b[0;34m:\u001b[0m \u001b[0;34m'2nd kwonly'\u001b[0m \u001b[0;34m=\u001b[0m \u001b[0;34m'two'\u001b[0m\u001b[0;34m,\u001b[0m\u001b[0;34m\u001b[0m\n",
              "\u001b[0;34m\u001b[0m    \u001b[0;34m**\u001b[0m\u001b[0mkw\u001b[0m\u001b[0;34m:\u001b[0m \u001b[0;34m'kwargs'\u001b[0m\u001b[0;34m,\u001b[0m\u001b[0;34m\u001b[0m\n",
              "\u001b[0;34m\u001b[0m\u001b[0;34m)\u001b[0m \u001b[0;34m->\u001b[0m \u001b[0;34m'return_'\u001b[0m\u001b[0;34m\u001b[0m\u001b[0;34m\u001b[0m\u001b[0m\n",
              "\u001b[0;31mSource:\u001b[0m   \n",
              "\u001b[0;32mdef\u001b[0m \u001b[0mfunction\u001b[0m\u001b[0;34m(\u001b[0m\u001b[0mx\u001b[0m\u001b[0;34m:\u001b[0m \u001b[0;34m'1st arg'\u001b[0m\u001b[0;34m,\u001b[0m \u001b[0my\u001b[0m\u001b[0;34m:\u001b[0m \u001b[0;34m'2nd arg'\u001b[0m\u001b[0;34m,\u001b[0m \u001b[0ma\u001b[0m\u001b[0;34m:\u001b[0m \u001b[0;34m'1st defarg'\u001b[0m\u001b[0;34m=\u001b[0m\u001b[0;36m10\u001b[0m\u001b[0;34m,\u001b[0m \u001b[0mb\u001b[0m\u001b[0;34m=\u001b[0m\u001b[0;36m11\u001b[0m\u001b[0;34m,\u001b[0m \u001b[0;34m*\u001b[0m\u001b[0margs\u001b[0m\u001b[0;34m:\u001b[0m \u001b[0;34m'args'\u001b[0m\u001b[0;34m,\u001b[0m\u001b[0;34m\u001b[0m\n",
              "\u001b[0;34m\u001b[0m             \u001b[0mk\u001b[0m\u001b[0;34m:\u001b[0m \u001b[0;34m'1st kwonly'\u001b[0m\u001b[0;34m=\u001b[0m\u001b[0;34m'one'\u001b[0m\u001b[0;34m,\u001b[0m \u001b[0ml\u001b[0m\u001b[0;34m:\u001b[0m \u001b[0;34m'2nd kwonly'\u001b[0m\u001b[0;34m=\u001b[0m\u001b[0;34m'two'\u001b[0m\u001b[0;34m,\u001b[0m \u001b[0;34m**\u001b[0m\u001b[0mkw\u001b[0m\u001b[0;34m:\u001b[0m \u001b[0;34m'kwargs'\u001b[0m\u001b[0;34m)\u001b[0m \u001b[0;34m->\u001b[0m \u001b[0;34m'return_'\u001b[0m\u001b[0;34m:\u001b[0m\u001b[0;34m\u001b[0m\n",
              "\u001b[0;34m\u001b[0m    \u001b[0;34m'''function for testing decoration\u001b[0m\n",
              "\u001b[0;34m    This function has all 5 different types of arguments:\u001b[0m\n",
              "\u001b[0;34m        1) arguments, 2) defaulted arguments, 3) variable arguments,\u001b[0m\n",
              "\u001b[0;34m        4) keyword-only arguments, 5) variable keyword arguments\u001b[0m\n",
              "\u001b[0;34m    '''\u001b[0m\u001b[0;34m\u001b[0m\n",
              "\u001b[0;34m\u001b[0m    \u001b[0;32mreturn\u001b[0m \u001b[0mx\u001b[0m\u001b[0;34m,\u001b[0m \u001b[0my\u001b[0m\u001b[0;34m,\u001b[0m \u001b[0ma\u001b[0m\u001b[0;34m,\u001b[0m \u001b[0mb\u001b[0m\u001b[0;34m,\u001b[0m \u001b[0margs\u001b[0m\u001b[0;34m,\u001b[0m \u001b[0mk\u001b[0m\u001b[0;34m,\u001b[0m \u001b[0ml\u001b[0m\u001b[0;34m,\u001b[0m \u001b[0mkw\u001b[0m\u001b[0;34m\u001b[0m\u001b[0;34m\u001b[0m\u001b[0m\n",
              "\u001b[0;31mFile:\u001b[0m      ~/Documents/Conferences/2019-10-22 dotAstronomy/presentation/resources/<ipython-input-3-151961bc205e>\n",
              "\u001b[0;31mType:\u001b[0m      function\n"
            ]
          },
          "metadata": {}
        }
      ],
      "execution_count": 14,
      "metadata": {}
    },
    {
      "cell_type": "markdown",
      "source": [
        "<span style='font-size:20px;font-weight:650'>\n",
        "    The new function matches the original function!\n",
        "</span>\n",
        "\n",
        "\n",
        "![](figures/success.png)\n",
        "\n"
      ],
      "metadata": {}
    },
    {
      "cell_type": "markdown",
      "source": [
        "### Decorator Syntax Method"
      ],
      "metadata": {}
    },
    {
      "cell_type": "code",
      "source": [
        "@ftw_decorator\n",
        "def ftw_dec_function(x, y, a=10, b=11, *args, k='one', l='two', **kw):\n",
        "    '''function for testing decoration\n",
        "    This function has all 5 different types of arguments\n",
        "    '''\n",
        "    return x, y, a, b, args, k, l, kw\n",
        "# /def"
      ],
      "outputs": [],
      "execution_count": 15,
      "metadata": {}
    },
    {
      "cell_type": "code",
      "source": [
        "ftw_dec_function(1, 2)"
      ],
      "outputs": [
        {
          "output_type": "stream",
          "name": "stdout",
          "text": [
            "Pre function call\n",
            "(1, 2, 10, 11, (), 'one', 'two', {})\n",
            "Post function call\n"
          ]
        }
      ],
      "execution_count": 16,
      "metadata": {}
    },
    {
      "cell_type": "markdown",
      "source": [
        "#### Introspection"
      ],
      "metadata": {}
    },
    {
      "cell_type": "code",
      "source": [
        "# introspect_function(ftw_dec_function)\n",
        "ftw_dec_function??"
      ],
      "outputs": [
        {
          "output_type": "display_data",
          "data": {
            "text/plain": [
              "\u001b[0;31mSignature:\u001b[0m \u001b[0mftw_dec_function\u001b[0m\u001b[0;34m(\u001b[0m\u001b[0mx\u001b[0m\u001b[0;34m,\u001b[0m \u001b[0my\u001b[0m\u001b[0;34m,\u001b[0m \u001b[0ma\u001b[0m\u001b[0;34m=\u001b[0m\u001b[0;36m10\u001b[0m\u001b[0;34m,\u001b[0m \u001b[0mb\u001b[0m\u001b[0;34m=\u001b[0m\u001b[0;36m11\u001b[0m\u001b[0;34m,\u001b[0m \u001b[0;34m*\u001b[0m\u001b[0margs\u001b[0m\u001b[0;34m,\u001b[0m \u001b[0mk\u001b[0m\u001b[0;34m=\u001b[0m\u001b[0;34m'one'\u001b[0m\u001b[0;34m,\u001b[0m \u001b[0ml\u001b[0m\u001b[0;34m=\u001b[0m\u001b[0;34m'two'\u001b[0m\u001b[0;34m,\u001b[0m \u001b[0;34m**\u001b[0m\u001b[0mkw\u001b[0m\u001b[0;34m)\u001b[0m\u001b[0;34m\u001b[0m\u001b[0;34m\u001b[0m\u001b[0m\n",
              "\u001b[0;31mSource:\u001b[0m   \n",
              "\u001b[0;34m@\u001b[0m\u001b[0mftw_decorator\u001b[0m\u001b[0;34m\u001b[0m\n",
              "\u001b[0;34m\u001b[0m\u001b[0;32mdef\u001b[0m \u001b[0mftw_dec_function\u001b[0m\u001b[0;34m(\u001b[0m\u001b[0mx\u001b[0m\u001b[0;34m,\u001b[0m \u001b[0my\u001b[0m\u001b[0;34m,\u001b[0m \u001b[0ma\u001b[0m\u001b[0;34m=\u001b[0m\u001b[0;36m10\u001b[0m\u001b[0;34m,\u001b[0m \u001b[0mb\u001b[0m\u001b[0;34m=\u001b[0m\u001b[0;36m11\u001b[0m\u001b[0;34m,\u001b[0m \u001b[0;34m*\u001b[0m\u001b[0margs\u001b[0m\u001b[0;34m,\u001b[0m \u001b[0mk\u001b[0m\u001b[0;34m=\u001b[0m\u001b[0;34m'one'\u001b[0m\u001b[0;34m,\u001b[0m \u001b[0ml\u001b[0m\u001b[0;34m=\u001b[0m\u001b[0;34m'two'\u001b[0m\u001b[0;34m,\u001b[0m \u001b[0;34m**\u001b[0m\u001b[0mkw\u001b[0m\u001b[0;34m)\u001b[0m\u001b[0;34m:\u001b[0m\u001b[0;34m\u001b[0m\n",
              "\u001b[0;34m\u001b[0m    \u001b[0;34m'''function for testing decoration\u001b[0m\n",
              "\u001b[0;34m    This function has all 5 different types of arguments\u001b[0m\n",
              "\u001b[0;34m    '''\u001b[0m\u001b[0;34m\u001b[0m\n",
              "\u001b[0;34m\u001b[0m    \u001b[0;32mreturn\u001b[0m \u001b[0mx\u001b[0m\u001b[0;34m,\u001b[0m \u001b[0my\u001b[0m\u001b[0;34m,\u001b[0m \u001b[0ma\u001b[0m\u001b[0;34m,\u001b[0m \u001b[0mb\u001b[0m\u001b[0;34m,\u001b[0m \u001b[0margs\u001b[0m\u001b[0;34m,\u001b[0m \u001b[0mk\u001b[0m\u001b[0;34m,\u001b[0m \u001b[0ml\u001b[0m\u001b[0;34m,\u001b[0m \u001b[0mkw\u001b[0m\u001b[0;34m\u001b[0m\u001b[0;34m\u001b[0m\u001b[0m\n",
              "\u001b[0;31mFile:\u001b[0m      ~/Documents/Conferences/2019-10-22 dotAstronomy/presentation/resources/<ipython-input-15-9c2fa596773f>\n",
              "\u001b[0;31mType:\u001b[0m      function\n"
            ]
          },
          "metadata": {}
        }
      ],
      "execution_count": 17,
      "metadata": {}
    },
    {
      "cell_type": "markdown",
      "source": [
        "Again, the decorator preserves the signature and docstring. Great!"
      ],
      "metadata": {}
    },
    {
      "cell_type": "markdown",
      "source": [
        "<br><br>\n",
        "\n",
        "- - - "
      ],
      "metadata": {}
    },
    {
      "cell_type": "markdown",
      "source": [
        "## External Packages"
      ],
      "metadata": {}
    },
    {
      "cell_type": "markdown",
      "source": [
        "Everything so far was with base Python. There are (at least) two mature packages for making decorators: `decorator` and `wraps`. I don't detail how to use them here, thogh this could change if I discover features pertinent to my work that cannot be easily accomplished with base Python.\n",
        "\n",
        "If you are looking to make unified classmethod and staticmethod and general function decorators, check out `wraps` as I have not tested these decorators for full compatibility. For generic function creation, the `decorator` package offers a powerful feature called `FunctionMaker` (note this function is not compatible with Signature objects, otherwise I would use it here). Astropy offers a `make_function_with_signature` that is somewhat similar to `FunctionMaker`."
      ],
      "metadata": {}
    },
    {
      "cell_type": "markdown",
      "source": [
        "<br><br><br><br>\n",
        "\n",
        "- - - \n",
        "- - - "
      ],
      "metadata": {}
    },
    {
      "cell_type": "markdown",
      "source": [
        "# Decorators Which Add (kw)Arguments\n"
      ],
      "metadata": {}
    },
    {
      "cell_type": "markdown",
      "source": [
        "## Base+functools+inspect Python"
      ],
      "metadata": {}
    },
    {
      "cell_type": "code",
      "source": [
        "def simple_addkw_decorator(function):\n",
        "    '''simple decorator\n",
        "    made without any extra packages\n",
        "    tris to modify docstrings & Signatures\n",
        "    '''\n",
        "\n",
        "    @functools.wraps(function)\n",
        "    def wrapper(*args, added_kw='t', **kw):\n",
        "        print(\"Pre function call\")\n",
        "        print('added_kw:', added_kw)\n",
        "        print(function(*args, **kw))\n",
        "        print(\"Post function call\")\n",
        "        return\n",
        "\n",
        "    # /def\n",
        "    return wrapper\n",
        "# /def"
      ],
      "outputs": [],
      "execution_count": 18,
      "metadata": {}
    },
    {
      "cell_type": "code",
      "source": [
        "simple_addkw_function = simple_addkw_decorator(function)\n",
        "\n",
        "simple_addkw_function(1, 2, added_kw='t->u')"
      ],
      "outputs": [
        {
          "output_type": "stream",
          "name": "stdout",
          "text": [
            "Pre function call\n",
            "added_kw: t->u\n",
            "(1, 2, 10, 11, (), 'one', 'two', {})\n",
            "Post function call\n"
          ]
        }
      ],
      "execution_count": 19,
      "metadata": {}
    },
    {
      "cell_type": "code",
      "source": [
        "simple_addkw_function??"
      ],
      "outputs": [
        {
          "output_type": "display_data",
          "data": {
            "text/plain": [
              "\u001b[0;31mSignature:\u001b[0m\n",
              "\u001b[0msimple_addkw_function\u001b[0m\u001b[0;34m(\u001b[0m\u001b[0;34m\u001b[0m\n",
              "\u001b[0;34m\u001b[0m    \u001b[0mx\u001b[0m\u001b[0;34m:\u001b[0m \u001b[0;34m'1st arg'\u001b[0m\u001b[0;34m,\u001b[0m\u001b[0;34m\u001b[0m\n",
              "\u001b[0;34m\u001b[0m    \u001b[0my\u001b[0m\u001b[0;34m:\u001b[0m \u001b[0;34m'2nd arg'\u001b[0m\u001b[0;34m,\u001b[0m\u001b[0;34m\u001b[0m\n",
              "\u001b[0;34m\u001b[0m    \u001b[0ma\u001b[0m\u001b[0;34m:\u001b[0m \u001b[0;34m'1st defarg'\u001b[0m \u001b[0;34m=\u001b[0m \u001b[0;36m10\u001b[0m\u001b[0;34m,\u001b[0m\u001b[0;34m\u001b[0m\n",
              "\u001b[0;34m\u001b[0m    \u001b[0mb\u001b[0m\u001b[0;34m=\u001b[0m\u001b[0;36m11\u001b[0m\u001b[0;34m,\u001b[0m\u001b[0;34m\u001b[0m\n",
              "\u001b[0;34m\u001b[0m    \u001b[0;34m*\u001b[0m\u001b[0margs\u001b[0m\u001b[0;34m:\u001b[0m \u001b[0;34m'args'\u001b[0m\u001b[0;34m,\u001b[0m\u001b[0;34m\u001b[0m\n",
              "\u001b[0;34m\u001b[0m    \u001b[0mk\u001b[0m\u001b[0;34m:\u001b[0m \u001b[0;34m'1st kwonly'\u001b[0m \u001b[0;34m=\u001b[0m \u001b[0;34m'one'\u001b[0m\u001b[0;34m,\u001b[0m\u001b[0;34m\u001b[0m\n",
              "\u001b[0;34m\u001b[0m    \u001b[0ml\u001b[0m\u001b[0;34m:\u001b[0m \u001b[0;34m'2nd kwonly'\u001b[0m \u001b[0;34m=\u001b[0m \u001b[0;34m'two'\u001b[0m\u001b[0;34m,\u001b[0m\u001b[0;34m\u001b[0m\n",
              "\u001b[0;34m\u001b[0m    \u001b[0;34m**\u001b[0m\u001b[0mkw\u001b[0m\u001b[0;34m:\u001b[0m \u001b[0;34m'kwargs'\u001b[0m\u001b[0;34m,\u001b[0m\u001b[0;34m\u001b[0m\n",
              "\u001b[0;34m\u001b[0m\u001b[0;34m)\u001b[0m \u001b[0;34m->\u001b[0m \u001b[0;34m'return_'\u001b[0m\u001b[0;34m\u001b[0m\u001b[0;34m\u001b[0m\u001b[0m\n",
              "\u001b[0;31mSource:\u001b[0m   \n",
              "\u001b[0;32mdef\u001b[0m \u001b[0mfunction\u001b[0m\u001b[0;34m(\u001b[0m\u001b[0mx\u001b[0m\u001b[0;34m:\u001b[0m \u001b[0;34m'1st arg'\u001b[0m\u001b[0;34m,\u001b[0m \u001b[0my\u001b[0m\u001b[0;34m:\u001b[0m \u001b[0;34m'2nd arg'\u001b[0m\u001b[0;34m,\u001b[0m \u001b[0ma\u001b[0m\u001b[0;34m:\u001b[0m \u001b[0;34m'1st defarg'\u001b[0m\u001b[0;34m=\u001b[0m\u001b[0;36m10\u001b[0m\u001b[0;34m,\u001b[0m \u001b[0mb\u001b[0m\u001b[0;34m=\u001b[0m\u001b[0;36m11\u001b[0m\u001b[0;34m,\u001b[0m \u001b[0;34m*\u001b[0m\u001b[0margs\u001b[0m\u001b[0;34m:\u001b[0m \u001b[0;34m'args'\u001b[0m\u001b[0;34m,\u001b[0m\u001b[0;34m\u001b[0m\n",
              "\u001b[0;34m\u001b[0m             \u001b[0mk\u001b[0m\u001b[0;34m:\u001b[0m \u001b[0;34m'1st kwonly'\u001b[0m\u001b[0;34m=\u001b[0m\u001b[0;34m'one'\u001b[0m\u001b[0;34m,\u001b[0m \u001b[0ml\u001b[0m\u001b[0;34m:\u001b[0m \u001b[0;34m'2nd kwonly'\u001b[0m\u001b[0;34m=\u001b[0m\u001b[0;34m'two'\u001b[0m\u001b[0;34m,\u001b[0m \u001b[0;34m**\u001b[0m\u001b[0mkw\u001b[0m\u001b[0;34m:\u001b[0m \u001b[0;34m'kwargs'\u001b[0m\u001b[0;34m)\u001b[0m \u001b[0;34m->\u001b[0m \u001b[0;34m'return_'\u001b[0m\u001b[0;34m:\u001b[0m\u001b[0;34m\u001b[0m\n",
              "\u001b[0;34m\u001b[0m    \u001b[0;34m'''function for testing decoration\u001b[0m\n",
              "\u001b[0;34m    This function has all 5 different types of arguments:\u001b[0m\n",
              "\u001b[0;34m        1) arguments, 2) defaulted arguments, 3) variable arguments,\u001b[0m\n",
              "\u001b[0;34m        4) keyword-only arguments, 5) variable keyword arguments\u001b[0m\n",
              "\u001b[0;34m    '''\u001b[0m\u001b[0;34m\u001b[0m\n",
              "\u001b[0;34m\u001b[0m    \u001b[0;32mreturn\u001b[0m \u001b[0mx\u001b[0m\u001b[0;34m,\u001b[0m \u001b[0my\u001b[0m\u001b[0;34m,\u001b[0m \u001b[0ma\u001b[0m\u001b[0;34m,\u001b[0m \u001b[0mb\u001b[0m\u001b[0;34m,\u001b[0m \u001b[0margs\u001b[0m\u001b[0;34m,\u001b[0m \u001b[0mk\u001b[0m\u001b[0;34m,\u001b[0m \u001b[0ml\u001b[0m\u001b[0;34m,\u001b[0m \u001b[0mkw\u001b[0m\u001b[0;34m\u001b[0m\u001b[0;34m\u001b[0m\u001b[0m\n",
              "\u001b[0;31mFile:\u001b[0m      ~/Documents/Conferences/2019-10-22 dotAstronomy/presentation/resources/<ipython-input-3-151961bc205e>\n",
              "\u001b[0;31mType:\u001b[0m      function\n"
            ]
          },
          "metadata": {}
        }
      ],
      "execution_count": 20,
      "metadata": {}
    },
    {
      "cell_type": "markdown",
      "source": [
        "<br>\n",
        "Unfortunately, introspection gives us no clue that a keyword argument has been added.\n",
        "To partiallly address this shortcoming, we will next make decorators that can edit the docstrings of the wrapped functions."
      ],
      "metadata": {}
    },
    {
      "cell_type": "markdown",
      "source": [
        "<br><br><br><br>\n",
        "\n",
        "- - - \n",
        "- - - "
      ],
      "metadata": {}
    },
    {
      "cell_type": "markdown",
      "source": [
        "# Docstring-Modifying Decorators"
      ],
      "metadata": {}
    },
    {
      "cell_type": "markdown",
      "source": [
        "The goal is to make a decorator that modifies the docstring of the decorated function, so that we can document what the decorator is doing."
      ],
      "metadata": {}
    },
    {
      "cell_type": "markdown",
      "source": [
        "## Base Python (w/ functools)"
      ],
      "metadata": {}
    },
    {
      "cell_type": "code",
      "source": [
        "def simple_mod_decorator(function):\n",
        "    '''simple decorator\n",
        "    made without any extra packages\n",
        "    permits any modification to the docstring\n",
        "    \n",
        "    Parameters\n",
        "    ----------\n",
        "    function: Function\n",
        "        function to be decorated\n",
        "    doc_func: Function, None  (default None)\n",
        "        function to edit the docstring\n",
        "        signature: f(__doc__)\n",
        "    \n",
        "    Returns\n",
        "    -------\n",
        "    wrapper: Function\n",
        "        wrapped function\n",
        "    '''\n",
        "    @functools.wraps(function)\n",
        "    def wrapper(*args, **kw):\n",
        "        print(\"Pre function call\")\n",
        "        print(function(*args, **kw))\n",
        "        print(\"Post function call\")\n",
        "        return\n",
        "    # /def\n",
        "\n",
        "    # editing docstring\n",
        "    if function.__doc__ is not None:\n",
        "        wrapper.__doc__ = function.__doc__ + (\"\\n\"\n",
        "                                              \"Decorator\\n\"\n",
        "                                              \"-------\\n\"\n",
        "                                              \"prints information about function\")\n",
        "\n",
        "    return wrapper\n",
        "# /def"
      ],
      "outputs": [],
      "execution_count": 21,
      "metadata": {}
    },
    {
      "cell_type": "markdown",
      "source": [
        "Making sure the decorated function works as originally coded"
      ],
      "metadata": {}
    },
    {
      "cell_type": "code",
      "source": [
        "simple_mod_function = simple_mod_decorator(function)\n",
        "\n",
        "simple_mod_function(1, 2)"
      ],
      "outputs": [
        {
          "output_type": "stream",
          "name": "stdout",
          "text": [
            "Pre function call\n",
            "(1, 2, 10, 11, (), 'one', 'two', {})\n",
            "Post function call\n"
          ]
        }
      ],
      "execution_count": 22,
      "metadata": {}
    },
    {
      "cell_type": "markdown",
      "source": [
        "Let's see how the docstring turned out."
      ],
      "metadata": {}
    },
    {
      "cell_type": "code",
      "source": [
        "simple_mod_function?"
      ],
      "outputs": [
        {
          "output_type": "display_data",
          "data": {
            "text/plain": [
              "\u001b[0;31mSignature:\u001b[0m\n",
              "\u001b[0msimple_mod_function\u001b[0m\u001b[0;34m(\u001b[0m\u001b[0;34m\u001b[0m\n",
              "\u001b[0;34m\u001b[0m    \u001b[0mx\u001b[0m\u001b[0;34m:\u001b[0m \u001b[0;34m'1st arg'\u001b[0m\u001b[0;34m,\u001b[0m\u001b[0;34m\u001b[0m\n",
              "\u001b[0;34m\u001b[0m    \u001b[0my\u001b[0m\u001b[0;34m:\u001b[0m \u001b[0;34m'2nd arg'\u001b[0m\u001b[0;34m,\u001b[0m\u001b[0;34m\u001b[0m\n",
              "\u001b[0;34m\u001b[0m    \u001b[0ma\u001b[0m\u001b[0;34m:\u001b[0m \u001b[0;34m'1st defarg'\u001b[0m \u001b[0;34m=\u001b[0m \u001b[0;36m10\u001b[0m\u001b[0;34m,\u001b[0m\u001b[0;34m\u001b[0m\n",
              "\u001b[0;34m\u001b[0m    \u001b[0mb\u001b[0m\u001b[0;34m=\u001b[0m\u001b[0;36m11\u001b[0m\u001b[0;34m,\u001b[0m\u001b[0;34m\u001b[0m\n",
              "\u001b[0;34m\u001b[0m    \u001b[0;34m*\u001b[0m\u001b[0margs\u001b[0m\u001b[0;34m:\u001b[0m \u001b[0;34m'args'\u001b[0m\u001b[0;34m,\u001b[0m\u001b[0;34m\u001b[0m\n",
              "\u001b[0;34m\u001b[0m    \u001b[0mk\u001b[0m\u001b[0;34m:\u001b[0m \u001b[0;34m'1st kwonly'\u001b[0m \u001b[0;34m=\u001b[0m \u001b[0;34m'one'\u001b[0m\u001b[0;34m,\u001b[0m\u001b[0;34m\u001b[0m\n",
              "\u001b[0;34m\u001b[0m    \u001b[0ml\u001b[0m\u001b[0;34m:\u001b[0m \u001b[0;34m'2nd kwonly'\u001b[0m \u001b[0;34m=\u001b[0m \u001b[0;34m'two'\u001b[0m\u001b[0;34m,\u001b[0m\u001b[0;34m\u001b[0m\n",
              "\u001b[0;34m\u001b[0m    \u001b[0;34m**\u001b[0m\u001b[0mkw\u001b[0m\u001b[0;34m:\u001b[0m \u001b[0;34m'kwargs'\u001b[0m\u001b[0;34m,\u001b[0m\u001b[0;34m\u001b[0m\n",
              "\u001b[0;34m\u001b[0m\u001b[0;34m)\u001b[0m \u001b[0;34m->\u001b[0m \u001b[0;34m'return_'\u001b[0m\u001b[0;34m\u001b[0m\u001b[0;34m\u001b[0m\u001b[0m\n",
              "\u001b[0;31mDocstring:\u001b[0m\n",
              "function for testing decoration\n",
              "    This function has all 5 different types of arguments:\n",
              "        1) arguments, 2) defaulted arguments, 3) variable arguments,\n",
              "        4) keyword-only arguments, 5) variable keyword arguments\n",
              "    \n",
              "Decorator\n",
              "-------\n",
              "prints information about function\n",
              "\u001b[0;31mFile:\u001b[0m      ~/Documents/Conferences/2019-10-22 dotAstronomy/presentation/resources/<ipython-input-3-151961bc205e>\n",
              "\u001b[0;31mType:\u001b[0m      function\n"
            ]
          },
          "metadata": {}
        }
      ],
      "execution_count": 23,
      "metadata": {}
    },
    {
      "cell_type": "markdown",
      "source": [
        "And as simple as that, we have modified the function's docstring"
      ],
      "metadata": {}
    },
    {
      "cell_type": "markdown",
      "source": [
        "### Decorator Syntax Method"
      ],
      "metadata": {}
    },
    {
      "cell_type": "markdown",
      "source": [
        "Just checking.  This should work since we are not doing anything too strange."
      ],
      "metadata": {}
    },
    {
      "cell_type": "code",
      "source": [
        "@simple_mod_decorator\n",
        "def simple_mod_dec_function(x, y, a=10, b=11, *args, k='one', l='two', **kw):\n",
        "    '''function for testing decoration\n",
        "    This function has all 5 different types of arguments\n",
        "    '''\n",
        "    return x, y, a, b, args, k, l, kw\n",
        "# /def"
      ],
      "outputs": [],
      "execution_count": 24,
      "metadata": {}
    },
    {
      "cell_type": "code",
      "source": [
        "simple_mod_dec_function(1, 2)"
      ],
      "outputs": [
        {
          "output_type": "stream",
          "name": "stdout",
          "text": [
            "Pre function call\n",
            "(1, 2, 10, 11, (), 'one', 'two', {})\n",
            "Post function call\n"
          ]
        }
      ],
      "execution_count": 25,
      "metadata": {}
    },
    {
      "cell_type": "code",
      "source": [
        "simple_mod_function?"
      ],
      "outputs": [
        {
          "output_type": "display_data",
          "data": {
            "text/plain": [
              "\u001b[0;31mSignature:\u001b[0m\n",
              "\u001b[0msimple_mod_function\u001b[0m\u001b[0;34m(\u001b[0m\u001b[0;34m\u001b[0m\n",
              "\u001b[0;34m\u001b[0m    \u001b[0mx\u001b[0m\u001b[0;34m:\u001b[0m \u001b[0;34m'1st arg'\u001b[0m\u001b[0;34m,\u001b[0m\u001b[0;34m\u001b[0m\n",
              "\u001b[0;34m\u001b[0m    \u001b[0my\u001b[0m\u001b[0;34m:\u001b[0m \u001b[0;34m'2nd arg'\u001b[0m\u001b[0;34m,\u001b[0m\u001b[0;34m\u001b[0m\n",
              "\u001b[0;34m\u001b[0m    \u001b[0ma\u001b[0m\u001b[0;34m:\u001b[0m \u001b[0;34m'1st defarg'\u001b[0m \u001b[0;34m=\u001b[0m \u001b[0;36m10\u001b[0m\u001b[0;34m,\u001b[0m\u001b[0;34m\u001b[0m\n",
              "\u001b[0;34m\u001b[0m    \u001b[0mb\u001b[0m\u001b[0;34m=\u001b[0m\u001b[0;36m11\u001b[0m\u001b[0;34m,\u001b[0m\u001b[0;34m\u001b[0m\n",
              "\u001b[0;34m\u001b[0m    \u001b[0;34m*\u001b[0m\u001b[0margs\u001b[0m\u001b[0;34m:\u001b[0m \u001b[0;34m'args'\u001b[0m\u001b[0;34m,\u001b[0m\u001b[0;34m\u001b[0m\n",
              "\u001b[0;34m\u001b[0m    \u001b[0mk\u001b[0m\u001b[0;34m:\u001b[0m \u001b[0;34m'1st kwonly'\u001b[0m \u001b[0;34m=\u001b[0m \u001b[0;34m'one'\u001b[0m\u001b[0;34m,\u001b[0m\u001b[0;34m\u001b[0m\n",
              "\u001b[0;34m\u001b[0m    \u001b[0ml\u001b[0m\u001b[0;34m:\u001b[0m \u001b[0;34m'2nd kwonly'\u001b[0m \u001b[0;34m=\u001b[0m \u001b[0;34m'two'\u001b[0m\u001b[0;34m,\u001b[0m\u001b[0;34m\u001b[0m\n",
              "\u001b[0;34m\u001b[0m    \u001b[0;34m**\u001b[0m\u001b[0mkw\u001b[0m\u001b[0;34m:\u001b[0m \u001b[0;34m'kwargs'\u001b[0m\u001b[0;34m,\u001b[0m\u001b[0;34m\u001b[0m\n",
              "\u001b[0;34m\u001b[0m\u001b[0;34m)\u001b[0m \u001b[0;34m->\u001b[0m \u001b[0;34m'return_'\u001b[0m\u001b[0;34m\u001b[0m\u001b[0;34m\u001b[0m\u001b[0m\n",
              "\u001b[0;31mDocstring:\u001b[0m\n",
              "function for testing decoration\n",
              "    This function has all 5 different types of arguments:\n",
              "        1) arguments, 2) defaulted arguments, 3) variable arguments,\n",
              "        4) keyword-only arguments, 5) variable keyword arguments\n",
              "    \n",
              "Decorator\n",
              "-------\n",
              "prints information about function\n",
              "\u001b[0;31mFile:\u001b[0m      ~/Documents/Conferences/2019-10-22 dotAstronomy/presentation/resources/<ipython-input-3-151961bc205e>\n",
              "\u001b[0;31mType:\u001b[0m      function\n"
            ]
          },
          "metadata": {}
        }
      ],
      "execution_count": 26,
      "metadata": {}
    },
    {
      "cell_type": "markdown",
      "source": [
        "Indeed, it works exactly as expected."
      ],
      "metadata": {}
    },
    {
      "cell_type": "markdown",
      "source": [
        "## Arbitrary Modifications to the Docstring"
      ],
      "metadata": {}
    },
    {
      "cell_type": "markdown",
      "source": [
        "This is a cool side note and only introduced here to motivate a different paradigm for constructing decorators.\n",
        "\n",
        "Instead of pre-prescibing a modification to the docstring, we are trying to allow arbitrary modifications using\n",
        "an external function. When we call the decorator, we should also pass the docstring editor.\n",
        "\n",
        "Let's see how this works."
      ],
      "metadata": {}
    },
    {
      "cell_type": "code",
      "source": [
        "def simple_mod_decorator(function, doc_func=None):\n",
        "    '''simple decorator\n",
        "    made without any extra packages\n",
        "    permits any modification to the docstring\n",
        "    \n",
        "    Parameters\n",
        "    ----------\n",
        "    function: Function\n",
        "        function to be decorated\n",
        "    doc_func: Function, None  (default None)\n",
        "        function to edit the docstring\n",
        "        signature: f(__doc__)\n",
        "    \n",
        "    Returns\n",
        "    -------\n",
        "    wrapper: Function\n",
        "        wrapped function\n",
        "    '''\n",
        "    @functools.wraps(function)\n",
        "    def wrapper(*args, **kw):\n",
        "        print(\"Pre function call\")\n",
        "        print(function(*args, **kw))\n",
        "        print(\"Post function call\")\n",
        "        return\n",
        "    # /def\n",
        "\n",
        "    # editing docstring\n",
        "    doc_func = doc_func if doc_func is not None else (lambda x: x)\n",
        "    wrapper.__doc__ = doc_func(function.__doc__)\n",
        "\n",
        "    return wrapper\n",
        "# /def"
      ],
      "outputs": [],
      "execution_count": 27,
      "metadata": {}
    },
    {
      "cell_type": "code",
      "source": [
        "simple_mod_function = simple_mod_decorator(function, doc_func=lambda x: x + \"\\nI've added this information\")\n",
        "\n",
        "simple_mod_function(1, 2)"
      ],
      "outputs": [
        {
          "output_type": "stream",
          "name": "stdout",
          "text": [
            "Pre function call\n",
            "(1, 2, 10, 11, (), 'one', 'two', {})\n",
            "Post function call\n"
          ]
        }
      ],
      "execution_count": 28,
      "metadata": {}
    },
    {
      "cell_type": "code",
      "source": [
        "simple_mod_function?"
      ],
      "outputs": [
        {
          "output_type": "display_data",
          "data": {
            "text/plain": [
              "\u001b[0;31mSignature:\u001b[0m\n",
              "\u001b[0msimple_mod_function\u001b[0m\u001b[0;34m(\u001b[0m\u001b[0;34m\u001b[0m\n",
              "\u001b[0;34m\u001b[0m    \u001b[0mx\u001b[0m\u001b[0;34m:\u001b[0m \u001b[0;34m'1st arg'\u001b[0m\u001b[0;34m,\u001b[0m\u001b[0;34m\u001b[0m\n",
              "\u001b[0;34m\u001b[0m    \u001b[0my\u001b[0m\u001b[0;34m:\u001b[0m \u001b[0;34m'2nd arg'\u001b[0m\u001b[0;34m,\u001b[0m\u001b[0;34m\u001b[0m\n",
              "\u001b[0;34m\u001b[0m    \u001b[0ma\u001b[0m\u001b[0;34m:\u001b[0m \u001b[0;34m'1st defarg'\u001b[0m \u001b[0;34m=\u001b[0m \u001b[0;36m10\u001b[0m\u001b[0;34m,\u001b[0m\u001b[0;34m\u001b[0m\n",
              "\u001b[0;34m\u001b[0m    \u001b[0mb\u001b[0m\u001b[0;34m=\u001b[0m\u001b[0;36m11\u001b[0m\u001b[0;34m,\u001b[0m\u001b[0;34m\u001b[0m\n",
              "\u001b[0;34m\u001b[0m    \u001b[0;34m*\u001b[0m\u001b[0margs\u001b[0m\u001b[0;34m:\u001b[0m \u001b[0;34m'args'\u001b[0m\u001b[0;34m,\u001b[0m\u001b[0;34m\u001b[0m\n",
              "\u001b[0;34m\u001b[0m    \u001b[0mk\u001b[0m\u001b[0;34m:\u001b[0m \u001b[0;34m'1st kwonly'\u001b[0m \u001b[0;34m=\u001b[0m \u001b[0;34m'one'\u001b[0m\u001b[0;34m,\u001b[0m\u001b[0;34m\u001b[0m\n",
              "\u001b[0;34m\u001b[0m    \u001b[0ml\u001b[0m\u001b[0;34m:\u001b[0m \u001b[0;34m'2nd kwonly'\u001b[0m \u001b[0;34m=\u001b[0m \u001b[0;34m'two'\u001b[0m\u001b[0;34m,\u001b[0m\u001b[0;34m\u001b[0m\n",
              "\u001b[0;34m\u001b[0m    \u001b[0;34m**\u001b[0m\u001b[0mkw\u001b[0m\u001b[0;34m:\u001b[0m \u001b[0;34m'kwargs'\u001b[0m\u001b[0;34m,\u001b[0m\u001b[0;34m\u001b[0m\n",
              "\u001b[0;34m\u001b[0m\u001b[0;34m)\u001b[0m \u001b[0;34m->\u001b[0m \u001b[0;34m'return_'\u001b[0m\u001b[0;34m\u001b[0m\u001b[0;34m\u001b[0m\u001b[0m\n",
              "\u001b[0;31mDocstring:\u001b[0m\n",
              "function for testing decoration\n",
              "    This function has all 5 different types of arguments:\n",
              "        1) arguments, 2) defaulted arguments, 3) variable arguments,\n",
              "        4) keyword-only arguments, 5) variable keyword arguments\n",
              "    \n",
              "I've added this information\n",
              "\u001b[0;31mFile:\u001b[0m      ~/Documents/Conferences/2019-10-22 dotAstronomy/presentation/resources/<ipython-input-3-151961bc205e>\n",
              "\u001b[0;31mType:\u001b[0m      function\n"
            ]
          },
          "metadata": {}
        }
      ],
      "execution_count": 29,
      "metadata": {}
    },
    {
      "cell_type": "markdown",
      "source": [
        "It seems to work great!\n",
        "\n",
        "Now let's make sure that this decorator works when we use the 'pie' syntax."
      ],
      "metadata": {}
    },
    {
      "cell_type": "markdown",
      "source": [
        "### Decorator Syntax Method"
      ],
      "metadata": {}
    },
    {
      "cell_type": "code",
      "source": [
        "try:\n",
        "    @simple_mod_decorator(doc_func=\"\\nI've added this information\")\n",
        "    def simple_mod_dec_function(x, y, a=10, b=11, *args, k='one', l='two', **kw):\n",
        "        '''function for testing decoration\n",
        "        This function has all 5 different types of arguments\n",
        "        '''\n",
        "        return x, y, a, b, args, k, l, kw\n",
        "    # /def\n",
        "\n",
        "except TypeError as e:\n",
        "    print(e)"
      ],
      "outputs": [
        {
          "output_type": "stream",
          "name": "stdout",
          "text": [
            "simple_mod_decorator() missing 1 required positional argument: 'function'\n"
          ]
        }
      ],
      "execution_count": 30,
      "metadata": {}
    },
    {
      "cell_type": "markdown",
      "source": [
        "Uh Oh!\n",
        "\n",
        "This method fails because it needs the function as an argument. Passing only the `doc_func` wasn't enough.\n",
        "\n",
        "The next section introduces a fix."
      ],
      "metadata": {}
    },
    {
      "cell_type": "markdown",
      "source": [
        "<br>"
      ],
      "metadata": {}
    },
    {
      "cell_type": "markdown",
      "source": [
        "## Fix using Class-based Decorators\n",
        "\n"
      ],
      "metadata": {}
    },
    {
      "cell_type": "markdown",
      "source": [
        "There are fixes that allow us to still use functions as decorators. But now is the perfect opportunity to introduce a more powerful way of making decorators...  CLASSES!"
      ],
      "metadata": {}
    },
    {
      "cell_type": "code",
      "source": [
        "class Simple_Mod_Decorator():\n",
        "    \"\"\"A class-based implementation of simple_mod_decorator\n",
        "    \"\"\"\n",
        "\n",
        "    def __new__(cls, func=None, doc_func=None):\n",
        "        \"\"\"\n",
        "        this is a quick and dirty method for class-based decorator creation\n",
        "        it is generically better to do this with a classmethod like\n",
        "        @classmethod\n",
        "        as_decorator(cls, func=None, ...):\n",
        "            all the same code as here\n",
        "        \"\"\"\n",
        "        # make instance\n",
        "        self = super().__new__(cls)\n",
        "        \n",
        "        # wrapper control:\n",
        "        if func is not None:  # this will return a wrapped function\n",
        "            # pass all arguments and kwargs to init\n",
        "            # since __init__ is will not be called\n",
        "            self.__init__(**{k: v for k, v in locals().items()\n",
        "                             if k not in ('cls', 'self', '__class__')})\n",
        "            return self(func)\n",
        "        else:  # this will return a function wrapper\n",
        "            # for when using as a @decorator\n",
        "            # __init__ will be automatically called after this\n",
        "            return self\n",
        "    # /def\n",
        "\n",
        "    def __init__(self, func=None, doc_func=None, doc_func_args=[], doc_func_kwargs={}):\n",
        "        \"\"\"\n",
        "        these are stored to be used inside of __call__\n",
        "        they are not normally passed to the wrapped_function\n",
        "        \"\"\"\n",
        "        # default docstring function \n",
        "        doc_func = doc_func if doc_func is not None else (lambda x: x)\n",
        "\n",
        "        # store all values passed to __init__\n",
        "        for k, v in locals().items():\n",
        "            setattr(self, k, v)\n",
        "    # /def\n",
        "\n",
        "    def __call__(self, wrapped_function):\n",
        "        \"\"\"construct a function wrapper\n",
        "        \"\"\"\n",
        "        @functools.wraps(wrapped_function)\n",
        "        def wrapper(*func_args, **func_kwargs):\n",
        "            return_ = wrapped_function(*func_args, **func_kwargs)\n",
        "            return return_\n",
        "        # /def\n",
        "\n",
        "        # docstring\n",
        "        if wrapped_function.__doc__ is not None:\n",
        "            wrapper.__doc__ = self.doc_func(wrapped_function.__doc__, *self.doc_func_args, **self.doc_func_kwargs)\n",
        "\n",
        "        # storing extra info\n",
        "        wrapper.doc_func = self.doc_func\n",
        "        \n",
        "        return wrapper\n",
        "    # /def\n",
        "# /class"
      ],
      "outputs": [],
      "execution_count": 31,
      "metadata": {}
    },
    {
      "cell_type": "code",
      "source": [
        "@Simple_Mod_Decorator(doc_func=lambda x: x + \"\\nI've added this information\")\n",
        "def simple_mod_dec_function(x, y, a=10, b=11, *args, k='one', l='two', **kw):\n",
        "    '''function for testing decoration\n",
        "    This function has all 5 different types of arguments\n",
        "    '''\n",
        "    return x, y, a, b, args, k, l, kw\n",
        "# /def"
      ],
      "outputs": [],
      "execution_count": 32,
      "metadata": {}
    },
    {
      "cell_type": "code",
      "source": [
        "simple_mod_dec_function(1, 2)\n",
        "\n",
        "simple_mod_dec_function.doc_func"
      ],
      "outputs": [
        {
          "output_type": "execute_result",
          "execution_count": 33,
          "data": {
            "text/plain": [
              "(1, 2, 10, 11, (), 'one', 'two', {})"
            ]
          },
          "metadata": {}
        },
        {
          "output_type": "execute_result",
          "execution_count": 33,
          "data": {
            "text/plain": [
              "<function __main__.<lambda>(x)>"
            ]
          },
          "metadata": {}
        }
      ],
      "execution_count": 33,
      "metadata": {}
    },
    {
      "cell_type": "code",
      "source": [
        "simple_mod_dec_function?"
      ],
      "outputs": [
        {
          "output_type": "display_data",
          "data": {
            "text/plain": [
              "\u001b[0;31mSignature:\u001b[0m \u001b[0msimple_mod_dec_function\u001b[0m\u001b[0;34m(\u001b[0m\u001b[0mx\u001b[0m\u001b[0;34m,\u001b[0m \u001b[0my\u001b[0m\u001b[0;34m,\u001b[0m \u001b[0ma\u001b[0m\u001b[0;34m=\u001b[0m\u001b[0;36m10\u001b[0m\u001b[0;34m,\u001b[0m \u001b[0mb\u001b[0m\u001b[0;34m=\u001b[0m\u001b[0;36m11\u001b[0m\u001b[0;34m,\u001b[0m \u001b[0;34m*\u001b[0m\u001b[0margs\u001b[0m\u001b[0;34m,\u001b[0m \u001b[0mk\u001b[0m\u001b[0;34m=\u001b[0m\u001b[0;34m'one'\u001b[0m\u001b[0;34m,\u001b[0m \u001b[0ml\u001b[0m\u001b[0;34m=\u001b[0m\u001b[0;34m'two'\u001b[0m\u001b[0;34m,\u001b[0m \u001b[0;34m**\u001b[0m\u001b[0mkw\u001b[0m\u001b[0;34m)\u001b[0m\u001b[0;34m\u001b[0m\u001b[0;34m\u001b[0m\u001b[0m\n",
              "\u001b[0;31mDocstring:\u001b[0m\n",
              "function for testing decoration\n",
              "    This function has all 5 different types of arguments\n",
              "    \n",
              "I've added this information\n",
              "\u001b[0;31mFile:\u001b[0m      ~/Documents/Conferences/2019-10-22 dotAstronomy/presentation/resources/<ipython-input-32-4dd1abe7d9d1>\n",
              "\u001b[0;31mType:\u001b[0m      function\n"
            ]
          },
          "metadata": {}
        }
      ],
      "execution_count": 34,
      "metadata": {}
    },
    {
      "cell_type": "markdown",
      "source": [
        "This is great."
      ],
      "metadata": {}
    },
    {
      "cell_type": "markdown",
      "source": [
        "<br><br><br><br>\n",
        "<br><br><br><br>\n",
        "\n",
        "- - - \n",
        "- - - "
      ],
      "metadata": {}
    },
    {
      "cell_type": "markdown",
      "source": [
        "# Combining Everything\n",
        "\n",
        "This is a simple implementation that combines everything thus far"
      ],
      "metadata": {}
    },
    {
      "cell_type": "markdown",
      "source": [
        "Making a generic base for decorators and decorator factories that can "
      ],
      "metadata": {}
    },
    {
      "cell_type": "code",
      "source": [
        "class DecoratorClassBase():\n",
        "    \"\"\"\n",
        "    \"\"\"\n",
        "    \n",
        "    @staticmethod\n",
        "    def _doc_func(docstring):\n",
        "        return docstring\n",
        "    \n",
        "    @staticmethod\n",
        "    def _sig_func(signature):\n",
        "        return signature\n",
        "\n",
        "    def __new__(cls, func=None, **kwargs):\n",
        "        \"\"\"\n",
        "        this is a quick and dirty method for class-based decorator creation\n",
        "        it is generically better to do this with a classmethod like\n",
        "        @classmethod\n",
        "        as_decorator(cls, func=None, ...):\n",
        "            all the same code as here\n",
        "        \"\"\"\n",
        "        # make instance\n",
        "        self = super().__new__(cls)\n",
        "        \n",
        "        # wrapper control:\n",
        "        if func is not None:  # this will return a wrapped function\n",
        "            # pass all arguments and kwargs to init\n",
        "            # since __init__ is will not be called\n",
        "            self.__init__(func, **kwargs)\n",
        "            return self(func)\n",
        "        else:  # this will return a function wrapper\n",
        "            # for when using as a @decorator\n",
        "            # __init__ will be automatically called after this\n",
        "            return self\n",
        "    # /def\n",
        "\n",
        "    def __init__(self, func=None, **kwargs):\n",
        "        \"\"\"\n",
        "        these are stored to be used inside of __call__\n",
        "        they are not normally passed to the wrapped_function\n",
        "        \"\"\"\n",
        "\n",
        "        # store all values passed to __init__\n",
        "        for k, v in kwargs.items():\n",
        "            setattr(self, k, v)\n",
        "    # /def\n",
        "\n",
        "    def edit_docstring(self, wrapper):\n",
        "        \"\"\"blank call\n",
        "        \"\"\"\n",
        "\n",
        "        # docstring\n",
        "        if wrapper.__doc__ is not None:\n",
        "            wrapper.__doc__ = self._doc_func(wrapper.__doc__)\n",
        "\n",
        "        # storing extra info\n",
        "        wrapper._doc_func = self._doc_func\n",
        "        \n",
        "        return wrapper\n",
        "    # /def\n",
        "# /class"
      ],
      "outputs": [],
      "execution_count": 35,
      "metadata": {}
    },
    {
      "cell_type": "markdown",
      "source": [
        "As an example, making a decorator that just adds the key-word argument `added_kw`."
      ],
      "metadata": {}
    },
    {
      "cell_type": "code",
      "source": [
        "class NewDecorator(DecoratorClassBase):\n",
        "    \"\"\"this is a new decorator\n",
        "    all we need to do is inherit from DecoratorClassBase,\n",
        "    define a _doc_func and make our wrapper function\n",
        "    \"\"\"\n",
        "\n",
        "    @staticmethod\n",
        "    def _doc_func(docstring):\n",
        "        return docstring + (\"\\nDecorator\\n\"\n",
        "                           \"-------\\n\"\n",
        "                            \"added_kw: str\\n\\tadd a key-word argument\")\n",
        "    \n",
        "    @staticmethod\n",
        "    def _sig_func(signature):\n",
        "        return signature\n",
        "    \n",
        "    def __call__(self, wrapped_function):\n",
        "        \"\"\"construct a function wrapper\n",
        "        \"\"\"\n",
        "        @functools.wraps(wrapped_function)\n",
        "        def wrapper(*func_args, added_kw='added_kw', **func_kwargs):\n",
        "            print(added_kw)\n",
        "            return_ = wrapped_function(*func_args, **func_kwargs)\n",
        "            return return_\n",
        "        # /def\n",
        "\n",
        "        return self.edit_docstring(wrapper)\n",
        "    # /def\n"
      ],
      "outputs": [],
      "execution_count": 36,
      "metadata": {}
    },
    {
      "cell_type": "markdown",
      "source": [
        "Applying the decorator"
      ],
      "metadata": {}
    },
    {
      "cell_type": "code",
      "source": [
        "@NewDecorator\n",
        "def simple_mod_dec_function(x, y, a=10, b=11, *args, k='one', l='two', **kw):\n",
        "    '''function for testing decoration\n",
        "    This function has all 5 different types of arguments\n",
        "    '''\n",
        "    return x, y, a, b, args, k, l, kw\n",
        "# /def"
      ],
      "outputs": [],
      "execution_count": 37,
      "metadata": {}
    },
    {
      "cell_type": "markdown",
      "source": [
        "Testing the decorator"
      ],
      "metadata": {}
    },
    {
      "cell_type": "code",
      "source": [
        "simple_mod_dec_function(1, 2)\n",
        "\n",
        "simple_mod_dec_function._doc_func"
      ],
      "outputs": [
        {
          "output_type": "stream",
          "name": "stdout",
          "text": [
            "added_kw\n"
          ]
        },
        {
          "output_type": "execute_result",
          "execution_count": 38,
          "data": {
            "text/plain": [
              "(1, 2, 10, 11, (), 'one', 'two', {})"
            ]
          },
          "metadata": {}
        },
        {
          "output_type": "execute_result",
          "execution_count": 38,
          "data": {
            "text/plain": [
              "<function __main__.NewDecorator._doc_func(docstring)>"
            ]
          },
          "metadata": {}
        }
      ],
      "execution_count": 38,
      "metadata": {}
    },
    {
      "cell_type": "markdown",
      "source": [
        "Checking that the decorator preserves the docstring and signature."
      ],
      "metadata": {}
    },
    {
      "cell_type": "code",
      "source": [
        "simple_mod_dec_function?"
      ],
      "outputs": [
        {
          "output_type": "display_data",
          "data": {
            "text/plain": [
              "\u001b[0;31mSignature:\u001b[0m \u001b[0msimple_mod_dec_function\u001b[0m\u001b[0;34m(\u001b[0m\u001b[0mx\u001b[0m\u001b[0;34m,\u001b[0m \u001b[0my\u001b[0m\u001b[0;34m,\u001b[0m \u001b[0ma\u001b[0m\u001b[0;34m=\u001b[0m\u001b[0;36m10\u001b[0m\u001b[0;34m,\u001b[0m \u001b[0mb\u001b[0m\u001b[0;34m=\u001b[0m\u001b[0;36m11\u001b[0m\u001b[0;34m,\u001b[0m \u001b[0;34m*\u001b[0m\u001b[0margs\u001b[0m\u001b[0;34m,\u001b[0m \u001b[0mk\u001b[0m\u001b[0;34m=\u001b[0m\u001b[0;34m'one'\u001b[0m\u001b[0;34m,\u001b[0m \u001b[0ml\u001b[0m\u001b[0;34m=\u001b[0m\u001b[0;34m'two'\u001b[0m\u001b[0;34m,\u001b[0m \u001b[0;34m**\u001b[0m\u001b[0mkw\u001b[0m\u001b[0;34m)\u001b[0m\u001b[0;34m\u001b[0m\u001b[0;34m\u001b[0m\u001b[0m\n",
              "\u001b[0;31mDocstring:\u001b[0m\n",
              "function for testing decoration\n",
              "    This function has all 5 different types of arguments\n",
              "    \n",
              "Decorator\n",
              "-------\n",
              "added_kw: str\n",
              "        add a key-word argument\n",
              "\u001b[0;31mFile:\u001b[0m      ~/Documents/Conferences/2019-10-22 dotAstronomy/presentation/resources/<ipython-input-37-402682b5e370>\n",
              "\u001b[0;31mType:\u001b[0m      function\n"
            ]
          },
          "metadata": {}
        }
      ],
      "execution_count": 39,
      "metadata": {}
    },
    {
      "cell_type": "markdown",
      "source": [
        "<br><br><br><br><br><br>\n",
        "\n",
        "- - - \n",
        "- - - \n",
        "\n",
        "<span style='font-size:40px;font-weight:650'>\n",
        "    END\n",
        "</span>"
      ],
      "metadata": {}
    }
  ],
  "metadata": {
    "kernel_info": {
      "name": "python3"
    },
    "kernelspec": {
      "name": "python3",
      "language": "python",
      "display_name": "Python 3"
    },
    "language_info": {
      "name": "python",
      "version": "3.7.3",
      "mimetype": "text/x-python",
      "codemirror_mode": {
        "name": "ipython",
        "version": 3
      },
      "pygments_lexer": "ipython3",
      "nbconvert_exporter": "python",
      "file_extension": ".py"
    },
    "nteract": {
      "version": "0.15.0"
    }
  },
  "nbformat": 4,
  "nbformat_minor": 4
}