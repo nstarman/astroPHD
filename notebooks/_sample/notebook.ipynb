{
  "cells": [
    {
      "cell_type": "code",
      "source": [
        "# ----------------------------------------------------------------------------\n",
        "#\n",
        "# TITLE   :\n",
        "# AUTHOR  : Nathaniel Starkman\n",
        "# PROJECT :\n",
        "#\n",
        "# ----------------------------------------------------------------------------\n",
        "\n",
        "### Docstring and Metadata\n",
        "r\"\"\"**DOCSTRING**\n",
        "\"\"\"\n",
        "\n",
        "__author__ = \"Nathaniel Starkman\"\n",
        "# __credits__ = [\"\"]"
      ],
      "outputs": [],
      "execution_count": 1,
      "metadata": {}
    },
    {
      "cell_type": "markdown",
      "source": [
        "## Imports"
      ],
      "metadata": {
        "collapsed": false,
        "outputHidden": false,
        "inputHidden": false
      }
    },
    {
      "cell_type": "code",
      "source": [
        "# Base Imports\n",
        "import sys; sys.path.insert(0, '../../')  # setting src file\n",
        "%run '../../src/util/ipython/imports.py'\n",
        "\n",
        "# General Imports\n",
        "\n# Projec-Specific Imports (in src)"
      ],
      "outputs": [
        {
          "output_type": "stream",
          "name": "stdout",
          "text": [
            "Imported:\n",
            "Base: os, sys, time, pdb, warnings, numpy -> np, scipy\n",
            "Astropy: astropy, .units->u, .coordinates->coords, .SkyCoord, .Table, .QTable\n",
            "Plot: starkplot->plt, .mpl_decorator\n",
            "      matplotlib->mpl, .colors, .cm\n",
            "IPython: display, Latex, Markdown, set_trace, printmd, printltx\n",
            "\n"
          ]
        }
      ],
      "execution_count": 2,
      "metadata": {
        "collapsed": false,
        "outputHidden": false,
        "inputHidden": false
      }
    },
    {
      "cell_type": "markdown",
      "source": [
        "# About\n",
        "\n",
        "information about this notebook  \n",
        "see commented out lines (below)\n",
        "\n",
        "<!--\n",
        "## Information\n",
        "\n",
        "## Future Work\n",
        "--!>"
      ],
      "metadata": {}
    },
    {
      "cell_type": "markdown",
      "source": [
        "# Prepare\n",
        "\n",
        "see commented out lines (below)\n",
        "\n",
        "<!--\n",
        "## Functions\n",
        "\n",
        "## Load Data\n",
        "--!>"
      ],
      "metadata": {}
    },
    {
      "cell_type": "code",
      "source": [],
      "outputs": [],
      "execution_count": null,
      "metadata": {
        "collapsed": false,
        "outputHidden": false,
        "inputHidden": false
      }
    }
  ],
  "metadata": {
    "kernelspec": {
      "name": "python3",
      "language": "python",
      "display_name": "Python 3"
    },
    "language_info": {
      "name": "python",
      "version": "3.7.1",
      "mimetype": "text/x-python",
      "codemirror_mode": {
        "name": "ipython",
        "version": 3
      },
      "pygments_lexer": "ipython3",
      "nbconvert_exporter": "python",
      "file_extension": ".py"
    },
    "nteract": {
      "version": "0.12.3"
    },
    "kernel_info": {
      "name": "python3"
    }
  },
  "nbformat": 4,
  "nbformat_minor": 2
}