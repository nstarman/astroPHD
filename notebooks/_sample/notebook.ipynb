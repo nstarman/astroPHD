{
  "cells": [
    {
      "cell_type": "code",
      "source": [
        "# ----------------------------------------------------------------------------\n",
        "#\n",
        "# TITLE   :\n",
        "# AUTHOR  : Nathaniel Starkman\n",
        "# PROJECT :\n",
        "#\n",
        "# ----------------------------------------------------------------------------\n",
        "\n",
        "### Docstring and Metadata\n",
        "r\"\"\"**DOCSTRING**\n",
        "\"\"\"\n",
        "\n",
        "__author__ = \"Nathaniel Starkman\"\n",
        "# __credits__ = [\"\"]"
      ],
      "outputs": [],
      "execution_count": 2,
      "metadata": {}
    },
    {
      "cell_type": "markdown",
      "source": [
        "<span style='font-size:30px;font-weight:650'>\n",
        "    About\n",
        "</span>\n",
        "\n",
        "information about this notebook  \n",
        "see commented out lines (below)\n",
        "\n",
        "<!--\n",
        "<span style='font-size:25px;font-weight:600'>\n",
        "    About\n",
        "</span>\n",
        "\n",
        "## Future Work\n",
        "--!>"
      ],
      "metadata": {}
    },
    {
      "cell_type": "markdown",
      "source": [
        "# Prepare\n"
      ],
      "metadata": {}
    },
    {
      "cell_type": "markdown",
      "source": [
        "## Imports"
      ],
      "metadata": {
        "collapsed": false,
        "outputHidden": false,
        "inputHidden": false
      }
    },
    {
      "cell_type": "code",
      "source": [
        "# Base\n",
        "import sys; sys.path.insert(0, '../../')  # setting src file\n",
        "%run '../../src/util/ipython/imports.py'\n",
        "\n",
        "# General\n",
        "\n",
        "# Custom\n",
        "\n# Project-Specific Imports (in src)"
      ],
      "outputs": [
        {
          "output_type": "stream",
          "name": "stderr",
          "text": [
            "ERROR:root:File `'../../src/util/ipython/imports.py'` not found.\n"
          ]
        }
      ],
      "execution_count": 7,
      "metadata": {
        "collapsed": false,
        "outputHidden": false,
        "inputHidden": false
      }
    },
    {
      "cell_type": "markdown",
      "source": [
        "see commented out lines (below)\n",
        "\n",
        "<!--\n",
        "## Functions\n",
        "\n",
        "## Load Data\n",
        "--!>"
      ],
      "metadata": {}
    },
    {
      "cell_type": "markdown",
      "source": [
        "<br><br>\n",
        "\n",
        "- - - \n",
        "- - - \n",
        "\n<br><br>"
      ],
      "metadata": {}
    },
    {
      "cell_type": "markdown",
      "source": [
        "# Code"
      ],
      "metadata": {}
    },
    {
      "cell_type": "code",
      "source": [],
      "outputs": [],
      "execution_count": 4,
      "metadata": {
        "collapsed": false,
        "outputHidden": false,
        "inputHidden": false
      }
    },
    {
      "cell_type": "markdown",
      "source": [
        "<br><br>\n",
        "\n",
        "- - - \n",
        "\n<br><br>"
      ],
      "metadata": {}
    },
    {
      "cell_type": "code",
      "source": [
        "printmd('Done', fontsize=30)"
      ],
      "outputs": [
        {
          "output_type": "error",
          "ename": "NameError",
          "evalue": "name 'printmd' is not defined",
          "traceback": [
            "\u001b[0;31m---------------------------------------------------------------------------\u001b[0m",
            "\u001b[0;31mNameError\u001b[0m                                 Traceback (most recent call last)",
            "\u001b[0;32m<ipython-input-4-12352e498ff0>\u001b[0m in \u001b[0;36m<module>\u001b[0;34m\u001b[0m\n\u001b[0;32m----> 1\u001b[0;31m \u001b[0mprintmd\u001b[0m\u001b[0;34m(\u001b[0m\u001b[0;34m'Done'\u001b[0m\u001b[0;34m,\u001b[0m \u001b[0mfontsize\u001b[0m\u001b[0;34m=\u001b[0m\u001b[0;36m30\u001b[0m\u001b[0;34m)\u001b[0m\u001b[0;34m\u001b[0m\u001b[0;34m\u001b[0m\u001b[0m\n\u001b[0m",
            "\u001b[0;31mNameError\u001b[0m: name 'printmd' is not defined"
          ]
        }
      ],
      "execution_count": 4,
      "metadata": {}
    },
    {
      "cell_type": "code",
      "source": [],
      "outputs": [],
      "execution_count": null,
      "metadata": {
        "collapsed": false,
        "outputHidden": false,
        "inputHidden": false
      }
    }
  ],
  "metadata": {
    "kernelspec": {
      "name": "python3",
      "language": "python",
      "display_name": "Python 3"
    },
    "language_info": {
      "name": "python",
      "version": "3.7.1",
      "mimetype": "text/x-python",
      "codemirror_mode": {
        "name": "ipython",
        "version": 3
      },
      "pygments_lexer": "ipython3",
      "nbconvert_exporter": "python",
      "file_extension": ".py"
    },
    "nteract": {
      "version": "0.12.3"
    },
    "kernel_info": {
      "name": "python3"
    }
  },
  "nbformat": 4,
  "nbformat_minor": 2
}