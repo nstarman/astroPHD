{
 "cells": [
  {
   "cell_type": "markdown",
   "metadata": {},
   "source": [
    "# Pipeline"
   ]
  },
  {
   "cell_type": "code",
   "execution_count": 1,
   "metadata": {
    "collapsed": false,
    "inputHidden": false,
    "jupyter": {
     "outputs_hidden": false
    },
    "outputHidden": false
   },
   "outputs": [],
   "source": [
    "__author__ = 'Nathaniel Starkman'\n",
    "__version__ = 'Apr 22, 2020'"
   ]
  },
  {
   "cell_type": "markdown",
   "metadata": {},
   "source": [
    "**Pipeline Function**\n",
    "\n",
    "- decorate a function by call, or pie syntax.\n",
    "- look exactly like original function\n",
    "- can log function I/O\n",
    "- changes function docstring to say that it is a pipeline function\n",
    "- changes function signature to document\n",
    "- decorator existence be disabled like with `wrapt`'s enabled argument.\n",
    "- function's output (if decorator enabled):\n",
    "    - puts function output into dictionary (or some key-accessible container)\n",
    "    - knows output variable names or constructs names, for the output dictionary\n",
    "    - gives all variable names unique hashes so can refer to output of function called many times\n",
    "    - has output defaults for the storage dict, if a function doesn't always return a value (ex return x if y is None else return x, y)\n",
    "    - can accept a hook function that mediates from function output to the storage dictionary  \n",
    "      this is done so that more simple functions can be decorated.\n",
    "      this should actually be a registry, so can specify different hooks to go to different functions\n",
    "      like decorate(func1, out_hooks={func2: hook1to2, func2: hook1to3})\n",
    "      note hook function can be used for modifying values. both good and dangerous.\n",
    "    - somehow deal with fact that functions can return very different things. Maybe delegate to hook function.\n",
    "    - note hook functions can themselves be pipelines.\n",
    "\n",
    "- function's input (if decorator enabled):\n",
    "    - introspects function signature\n",
    "    - use a bind_partial so can have defaults that don't need to pass.\n",
    "    - can accept a hook function that mediates from previous function output storage dictionary  \n",
    "      this is done so that more simple functions can be decorated.\n",
    "      this should actually be a registry, so can specify different hooks to go to different functions\n",
    "      like decorate(func3, in_hooks={func1: hook3from1, func2: hook3from2})\n",
    "      note hook function can be used for modifying values. both good and dangerous.\n",
    "\n",
    "\n",
    "**Pipeline**\n",
    "\n",
    "The actual pipeline of functions.\n",
    "\n",
    "- accept graph of pipeline functions, feeding from one to other.\n",
    "    - either by constructing step by step  \n",
    "      - one idea\n",
    "      ```pipe = Pipeline()\n",
    "      rgnum1 = pipe.startswith(func1)  # returns unique hash for func1\n",
    "      rgnum2 = pipe.connect(func1, func2)  # can only use func1 as name if never used again, otherwise use unique registration number\n",
    "      rgnum3, rgnum4 = pipe.connect(rgnum2, [func3, func4])  # will pass output of func2 to both\n",
    "      pipe.connect(rgnum3, func5)\n",
    "      pipe.connect(rgnum4, func5, output_hook=lambda: `change variable names`)\n",
    "      pipe.endswith(func5)\n",
    "      ```\n",
    "      - another idea\n",
    "      ```\n",
    "      pipe = Pipeline(functions=[func1, (func2, 2), func3], startswith=func1, endswith=func3)  # tuple for number times used. different regnums\n",
    "      rgnum1, (rgnum2_1, rgnum2_2), rgnum3 = pipes.rgnums\n",
    "      pipe.connect(rgnum1, rgnum2_1)\n",
    "      pipe.connect(rgnum2_1, rgnum3)\n",
    "      ```\n",
    "    - or by a .ini file\n",
    "    - or by a graphviz diagram mini-language string\n",
    "- acts like a function, calling it starts at beginning and progresses through\n",
    "- resolves call order, so can do something like\n",
    "  ```\n",
    "  func1 -> func2 -> func3 -> func4 --> func6\n",
    "       |                            |\n",
    "        -> func5 -------------------\n",
    "  ```"
   ]
  },
  {
   "cell_type": "markdown",
   "metadata": {},
   "source": [
    "<br><br>\n",
    "\n",
    "- - - \n"
   ]
  },
  {
   "cell_type": "markdown",
   "metadata": {},
   "source": [
    "## Prepare"
   ]
  },
  {
   "cell_type": "markdown",
   "metadata": {
    "inputHidden": false,
    "outputHidden": false
   },
   "source": [
    "### Imports"
   ]
  },
  {
   "cell_type": "code",
   "execution_count": 2,
   "metadata": {
    "collapsed": false,
    "inputHidden": false,
    "jupyter": {
     "outputs_hidden": false
    },
    "outputHidden": false
   },
   "outputs": [
    {
     "name": "stdout",
     "output_type": "stream",
     "text": [
      "set autoreload to 1\n",
      "set autoreload to 2\n"
     ]
    }
   ],
   "source": [
    "import wrapt\n",
    "import os\n",
    "import typing as T\n",
    "\n",
    "from utilipy.utils import functools, inspect\n",
    "\n",
    "from utilipy import ipython\n",
    "ipython.set_autoreload(2)\n",
    "\n",
    "from utilipy.pipeline import PipelineNode"
   ]
  },
  {
   "cell_type": "code",
   "execution_count": 3,
   "metadata": {},
   "outputs": [
    {
     "data": {
      "text/plain": [
       "<FullerSignature (z: 'CHANGED' = 7, test: 'CHANGED Test' = 'TEST') -> '300928423'>"
      ]
     },
     "execution_count": 3,
     "metadata": {},
     "output_type": "execute_result"
    }
   ],
   "source": [
    "\n",
    "outputs = inspect.FullerSignature(\n",
    "    parameters=[\n",
    "        inspect.Parameter(name='z', kind=inspect.POSITIONAL_OR_KEYWORD),\n",
    "        inspect.Parameter(name='test', kind=inspect.POSITIONAL_OR_KEYWORD, default='TEST')\n",
    "    ],\n",
    "    return_annotation=f\"output.\"\n",
    ")\n",
    "\n",
    "def input_changer(sig):  # doesn't apply b/c first !\n",
    "    sig = sig.modify_parameter('x', annotation='CHANGED')\n",
    "    return sig\n",
    "# /def\n",
    "    \n",
    "\n",
    "@PipelineNode.decorator(\n",
    "    outputs=outputs, input_defaults={'x': 1, 'y': 3},\n",
    "    input_hook=input_changer, enabled=True\n",
    ")\n",
    "def test_function(x, y, _return_test=False):\n",
    "    \"\"\"Hello\"\"\"\n",
    "    if _return_test:\n",
    "        return x + y, 'new val'\n",
    "    return x + y\n",
    "\n",
    "out = test_function.run(None, x=2)\n",
    "\n",
    "def input_changer(sig):  # doesn't apply b/c first !\n",
    "    sig = sig.modify_parameter('test', annotation='CHANGED Test')\n",
    "    return sig\n",
    "# /def\n",
    "\n",
    "def output_changer(sig):\n",
    "    sig = sig.modify_parameter('z', annotation='CHANGED')\n",
    "    return sig\n",
    "# /def\n",
    "\n",
    "@PipelineNode.decorator(\n",
    "    input_defaults={'z': -1}, outputs=['z'],\n",
    "    input_hook=input_changer, output_hook=output_changer,\n",
    "    carry_through_unused=True\n",
    ")\n",
    "def test_function2(z):\n",
    "    return z +2 \n",
    "\n",
    "test_function2.run(out)"
   ]
  },
  {
   "cell_type": "code",
   "execution_count": 4,
   "metadata": {},
   "outputs": [
    {
     "data": {
      "text/plain": [
       "300928342"
      ]
     },
     "execution_count": 4,
     "metadata": {},
     "output_type": "execute_result"
    }
   ],
   "source": [
    "test_function._hash"
   ]
  },
  {
   "cell_type": "markdown",
   "metadata": {},
   "source": [
    "<br><br>\n",
    "\n",
    "- - - \n"
   ]
  },
  {
   "cell_type": "code",
   "execution_count": 5,
   "metadata": {},
   "outputs": [],
   "source": [
    "class Pipeline:\n",
    "    pass\n",
    "\n",
    "class SequentialPipeline(Pipeline):\n",
    "    \"\"\"A simplified pipeline.\"\"\"\n",
    "    \n",
    "    def __init__(self, order=[]):\n",
    "        \"\"\"\n",
    "\n",
    "        Parameters\n",
    "        ----------\n",
    "        order:\n",
    "            the order of the functions.\n",
    "            \n",
    "            \n",
    "        Notes\n",
    "        -----\n",
    "        unique hash for functions by hashing their internal hash + order connection added\n",
    "        this allows a function to be connected to many things and have a unique hash\n",
    "\n",
    "        \"\"\"\n",
    "        self._funcs = {}\n",
    "        self._order = []\n",
    "        \n",
    "        for i, func in enumerate(order):\n",
    "            key = hash((func._hash, i))\n",
    "            self._funcs[key] = func\n",
    "\n",
    "            self._order.append(key)\n",
    "          \n",
    "        return\n",
    "\n",
    "    # /def\n",
    "    \n",
    "    def run(self, signature, **kwargs):\n",
    "        \"\"\"Run as pipeline function.\n",
    "        \n",
    "        Parameters\n",
    "        ----------\n",
    "        signature : :class:`~utilipy.utils.inspect.Signature`, optional\n",
    "            if included, ignores `kwargs`\n",
    "        kwargs : Any\n",
    "            key-word arguments\n",
    "            used to modify signature.\n",
    "            deprecate (?)\n",
    "        \n",
    "        Returns\n",
    "        -------\n",
    "        :class:`~utilipy.utils.inspect.FullerSignature`\n",
    "\n",
    "        \"\"\"\n",
    "        out = self._funcs[self._order[0]].run(signature, **kwargs)\n",
    "        \n",
    "        for key in self._order[1:]:\n",
    "            out = self._funcs[key].run(out)\n",
    "            \n",
    "        return out\n",
    "\n",
    "    # /def\n",
    "\n",
    "# /class"
   ]
  },
  {
   "cell_type": "code",
   "execution_count": 6,
   "metadata": {},
   "outputs": [
    {
     "data": {
      "text/plain": [
       "<FullerSignature (z: 'CHANGED' = 6, test: 'CHANGED Test' = 'TEST') -> '300928423'>"
      ]
     },
     "execution_count": 6,
     "metadata": {},
     "output_type": "execute_result"
    }
   ],
   "source": [
    "pipe = SequentialPipeline([test_function, *(test_function2,)*3])\n",
    "\n",
    "pipe.run(None, x=0, y=0)"
   ]
  },
  {
   "cell_type": "markdown",
   "metadata": {},
   "source": [
    "<br><br>\n",
    "\n",
    "- - - \n",
    "- - - \n",
    "\n",
    "<span style='font-size:40px;font-weight:650'>\n",
    "    END\n",
    "</span>"
   ]
  },
  {
   "cell_type": "code",
   "execution_count": 7,
   "metadata": {},
   "outputs": [
    {
     "data": {
      "text/plain": [
       "<FullerSignature (z=5, test='TEST') -> 'output.'>"
      ]
     },
     "execution_count": 7,
     "metadata": {},
     "output_type": "execute_result"
    }
   ],
   "source": [
    "out"
   ]
  },
  {
   "cell_type": "code",
   "execution_count": null,
   "metadata": {},
   "outputs": [],
   "source": []
  }
 ],
 "metadata": {
  "kernel_info": {
   "name": "utilipy"
  },
  "kernelspec": {
   "display_name": "Python 3.7.3 64-bit ('base': conda)",
   "language": "python",
   "name": "python37364bitbaseconda6578cf6fdcb7435fb34bfe59e8478bf6"
  },
  "language_info": {
   "codemirror_mode": {
    "name": "ipython",
    "version": 3
   },
   "file_extension": ".py",
   "mimetype": "text/x-python",
   "name": "python",
   "nbconvert_exporter": "python",
   "pygments_lexer": "ipython3",
   "version": "3.7.4"
  },
  "nteract": {
   "version": "0.22.4"
  }
 },
 "nbformat": 4,
 "nbformat_minor": 4
}
